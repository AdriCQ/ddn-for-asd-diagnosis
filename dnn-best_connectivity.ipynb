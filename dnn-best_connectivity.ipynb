{
 "cells": [
  {
   "cell_type": "markdown",
   "metadata": {},
   "source": [
    "## Deep neural network for ASD classification using resting-state fMRI\n",
    "\n",
    "This notebook evaluate a deep neural network for ASD diagnosis using functionañ time series data from brain regions of interest. The used resting-state fMRI data from the ABIDE dataset were preprocessed by the **Preprocessed Connectome Project (PCP)** using four pipelines, involving 1100 subjects from multiple international sites.\n",
    "\n",
    "### Configure the loading data\n",
    "\n",
    " The variables necessary for loading the neuroimaging data are defined. The `pipeline` and `atlas` used for preprocessing and ROIs extraction are specified. Additionally, list all neuroimaging sites available in the dataset and those that are to be included in the analysis are selected using the `sites` and `test_site` variables."
   ]
  },
  {
   "cell_type": "code",
   "execution_count": 1,
   "metadata": {},
   "outputs": [],
   "source": [
    "pipeline = 'cpac'  \n",
    "rois = 'rois_aal'\n",
    "\n",
    "# List of all available neuroimaging sites in the dataset\n",
    "all_sites = [\n",
    "    'caltech', 'cmu', 'kki', 'leuven_1', 'leuven_2', 'max_mun', 'nyu', \n",
    "    'ohsu', 'olin', 'pitt', 'sbl', 'sdsu', 'stanford', 'trinity', \n",
    "    'ucla_1', 'ucla_2', 'um_1', 'um_2', 'usm', 'yale'\n",
    "]\n",
    "\n",
    "# Sites include in the analysis\n",
    "sites = all_sites\n",
    "\n",
    "# Testing site\n",
    "test_site = 'yale'"
   ]
  },
  {
   "cell_type": "markdown",
   "metadata": {},
   "source": [
    "### ROIs data loading function\n",
    "\n",
    "Definition of the `load_rois_data(pipeline, rois, sites)` function to retrieve subject time series and diagnostic labels from each neuroimaging site in `sites`. This function reads phenotypic information from CSV files, then loads the time series data for each subject. Also handle potential issues, such as missing files or NaN values, to ensure data integrity before analysis."
   ]
  },
  {
   "cell_type": "code",
   "execution_count": 2,
   "metadata": {},
   "outputs": [],
   "source": [
    "import os\n",
    "import csv\n",
    "import numpy as np\n",
    "\n",
    "\n",
    "def load_rois_data(pipeline, rois, sites):\n",
    "    \"\"\"\n",
    "    Loads time series and diagnostic labels from neuroimaging data files for the specified sites.\n",
    "    \n",
    "    Parameters:\n",
    "        pipeline (str): Preprocessing pipeline used for the data.\n",
    "        rois (str): Atlas defining regions of interest.\n",
    "        sites (list of str): List of site names to load data from.\n",
    "\n",
    "    Returns:\n",
    "        rois_time_series (dict): Contains time series data for each site.\n",
    "        rois_labels (dict): Contains diagnostic labels for each site.\n",
    "    \"\"\"\n",
    "\n",
    "    rois_time_series = {}  # Dictionary to store time series data for each site\n",
    "    rois_labels = {}  # Dictionary to store labels for each site\n",
    "\n",
    "    for site in sites:\n",
    "        # Define path for phenotypic data for the current site\n",
    "        phenotypic_path = f\"data/phenotypic/{site}/phenotypic.csv\"\n",
    "\n",
    "        try:\n",
    "            with open(phenotypic_path, 'r') as file:\n",
    "                reader = csv.DictReader(file)\n",
    "                site_time_series = []  # List to store time series for each subject at the site\n",
    "                site_labels = []  # List to store labels for each subject at the site\n",
    "\n",
    "                for row in reader:\n",
    "                    file_id = row['file_id']  # Unique subject identifier\n",
    "                    dx_group = row['dx_group']  # Diagnostic group (ASD=1, Control=0)\n",
    "\n",
    "                    # Define path for the time series data file\n",
    "                    data_file_path = os.path.join(f\"data/{pipeline}/{rois}/{site}/{file_id}_{rois}.1D\")\n",
    "\n",
    "                    # Check if the data file exists\n",
    "                    if not os.path.exists(data_file_path):\n",
    "                        print(f\"File Not Found Error: Data file not found at path {data_file_path}\")\n",
    "                        continue\n",
    "                    \n",
    "                    data = np.loadtxt(data_file_path)\n",
    "\n",
    "                    # Check for NaN values and add time series to the site list\n",
    "                    if np.isnan(data).any():\n",
    "                        print(f\"Value Error: NaN value found for subject {file_id}\")\n",
    "                    else:\n",
    "                        site_time_series.append(data)\n",
    "                        site_labels.append(1 if dx_group == '1' else 0)  # Assign 1 for ASD, 0 for control\n",
    "\n",
    "                # Store loaded data for the current site in the dictionaries\n",
    "                rois_time_series[site] = site_time_series\n",
    "                rois_labels[site] = np.array(site_labels)\n",
    "                print(f\"Loaded {len(site_time_series)} subjects from site {site}.\")\n",
    "                \n",
    "        except FileNotFoundError:\n",
    "            print(f\"File Not Found Error: Phenotypic data not found for site {site}\")\n",
    "\n",
    "    return rois_time_series, rois_labels"
   ]
  },
  {
   "cell_type": "markdown",
   "metadata": {},
   "source": [
    "Load data to be used in the analysis based on specified parameters."
   ]
  },
  {
   "cell_type": "code",
   "execution_count": 4,
   "metadata": {},
   "outputs": [
    {
     "name": "stdout",
     "output_type": "stream",
     "text": [
      "Loaded 38 subjects from site caltech.\n",
      "Loaded 27 subjects from site cmu.\n",
      "Loaded 55 subjects from site kki.\n",
      "Loaded 29 subjects from site leuven_1.\n",
      "Loaded 35 subjects from site leuven_2.\n",
      "Loaded 57 subjects from site max_mun.\n",
      "Loaded 184 subjects from site nyu.\n",
      "Loaded 28 subjects from site ohsu.\n",
      "Loaded 36 subjects from site olin.\n",
      "Loaded 57 subjects from site pitt.\n",
      "Loaded 30 subjects from site sbl.\n",
      "Loaded 36 subjects from site sdsu.\n",
      "Loaded 40 subjects from site stanford.\n",
      "Loaded 49 subjects from site trinity.\n",
      "Loaded 73 subjects from site ucla_1.\n",
      "Loaded 26 subjects from site ucla_2.\n",
      "Loaded 108 subjects from site um_1.\n",
      "Loaded 35 subjects from site um_2.\n",
      "Loaded 101 subjects from site usm.\n",
      "Loaded 56 subjects from site yale.\n"
     ]
    }
   ],
   "source": [
    "rois_time_series, rois_labels = load_rois_data(pipeline, rois, sites)"
   ]
  },
  {
   "cell_type": "code",
   "execution_count": 5,
   "metadata": {},
   "outputs": [
    {
     "name": "stdout",
     "output_type": "stream",
     "text": [
      "38\n"
     ]
    }
   ],
   "source": [
    "print(len(rois_time_series['caltech']))"
   ]
  },
  {
   "cell_type": "markdown",
   "metadata": {},
   "source": [
    "### Calcular la Conectividad Funcional"
   ]
  },
  {
   "cell_type": "code",
   "execution_count": 6,
   "metadata": {},
   "outputs": [
    {
     "name": "stdout",
     "output_type": "stream",
     "text": [
      "(116, 116)\n",
      "mean asd shape: (116, 116)\n",
      "mean healty shape: (116, 116)\n"
     ]
    },
    {
     "data": {
      "image/png": "[encoded data removed]",
      "text/plain": [
       "<Figure size 800x600 with 2 Axes>"
      ]
     },
     "metadata": {},
     "output_type": "display_data"
    },
    {
     "name": "stdout",
     "output_type": "stream",
     "text": [
      "(116, 116)\n"
     ]
    },
    {
     "data": {
      "image/png": "[encoded data removed]",
      "text/plain": [
       "<Figure size 800x600 with 2 Axes>"
      ]
     },
     "metadata": {},
     "output_type": "display_data"
    },
    {
     "name": "stdout",
     "output_type": "stream",
     "text": [
      "(116, 116)\n"
     ]
    }
   ],
   "source": [
    "from nilearn.connectome import ConnectivityMeasure\n",
    "import matplotlib.pyplot as plt\n",
    "\n",
    "time_series_tea = rois_time_series['caltech'][2]\n",
    "time_series_tc =  rois_time_series['caltech'][30]\n",
    "# Calcular la conectividad funcional usando correlación de Pearson\n",
    "connectivity_measure = ConnectivityMeasure(kind='covariance')\n",
    "correlation_matrix_tea = connectivity_measure.fit_transform([time_series_tea])[0]\n",
    "correlation_matrix_tc = connectivity_measure.fit_transform([time_series_tc])[0]\n",
    "\n",
    "# Mostrar la matriz de correlación\n",
    "print(correlation_matrix_tea.shape)  # (n_ROIs, n_ROIs)\n",
    "\n",
    "all_asd_connectivity_matrices = []\n",
    "all_healty_connectivity_matrices = []\n",
    "\n",
    "for site in sites:\n",
    "    if site == test_site:\n",
    "        continue\n",
    "    \n",
    "    index = 0\n",
    "    # Process each subject's time series within the site\n",
    "    for subject_time_series in rois_time_series[site]:\n",
    "        if rois_labels[site][index] == 1:\n",
    "            correlation_matrix = connectivity_measure.fit_transform([subject_time_series])[0]\n",
    "            all_asd_connectivity_matrices.append(correlation_matrix)\n",
    "        else:\n",
    "            correlation_matrix = connectivity_measure.fit_transform([subject_time_series])[0]\n",
    "            all_healty_connectivity_matrices.append(correlation_matrix)\n",
    "\n",
    "        index = index + 1 \n",
    "\n",
    "mean_asd_connectivity_matrices = np.mean(all_asd_connectivity_matrices, axis=0)\n",
    "mean_healty_connectivity_matrices = np.mean(all_healty_connectivity_matrices, axis=0)       \n",
    "\n",
    "print(f\"mean asd shape: {mean_asd_connectivity_matrices.shape}\")\n",
    "print(f\"mean healty shape: {mean_healty_connectivity_matrices.shape}\")\n",
    "\n",
    "plt.figure(figsize=(8, 6))\n",
    "plt.imshow(mean_asd_connectivity_matrices, cmap='coolwarm', vmin=-1, vmax=1)\n",
    "plt.colorbar()\n",
    "plt.title(f\"Matriz de conectividad funcional promedio de casos diagnosticados con TEA con la métrica de covarianza\")\n",
    "plt.show()\n",
    "\n",
    "# Mostrar la matriz de correlación\n",
    "print(mean_asd_connectivity_matrices.shape)  # (n_ROIs, n_ROIs)\n",
    "\n",
    "plt.figure(figsize=(8, 6))\n",
    "plt.imshow(mean_healty_connectivity_matrices, cmap='coolwarm', vmin=-1, vmax=1)\n",
    "plt.colorbar()\n",
    "plt.title(f\"Matriz de conectividad funcional promedio de casos sanos con la métrica de covarianza\")\n",
    "plt.show()\n",
    "\n",
    "# Mostrar la matriz de correlación\n",
    "print(mean_healty_connectivity_matrices.shape)  # (n_ROIs, n_ROIs)\n",
    "\n",
    "\n"
   ]
  },
  {
   "cell_type": "code",
   "execution_count": null,
   "metadata": {},
   "outputs": [],
   "source": [
    "\n",
    "\n",
    "from scipy.stats import ttest_ind\n",
    "\n",
    "# Supongamos que 'group_A' y 'group_B' son matrices de conectividad para los dos grupos\n",
    "# Aquí tomamos solo dos ejemplos de grupos para ilustrar, debes tener tus datos reales\n",
    "group_A = [correlation_matrix_tea]  # matrices para TEA\n",
    "group_B = [correlation_matrix_tc]  # matrices para controles sanos\n",
    "\n",
    "# Realizar un t-test para comparar las matrices de conectividad entre grupos\n",
    "t_stat, p_value = ttest_ind(group_A, group_B, axis=0)\n",
    "\n",
    "# Mostrar el p-value para cada ROI\n",
    "print(\"P-values entre grupos por cada ROI:\")\n",
    "print(p_value)\n",
    "\n",
    "# Visualizar el mapa de diferencias significativas (con p<0.05)\n",
    "significant_mask = p_value < 0.05\n",
    "plt.figure(figsize=(8, 6))\n",
    "plt.imshow(significant_mask, cmap='binary', interpolation='nearest')\n",
    "plt.colorbar()\n",
    "plt.title(\"Áreas Significativas con p < 0.05\")\n",
    "plt.show()"
   ]
  },
  {
   "cell_type": "markdown",
   "metadata": {},
   "source": [
    "### Visualización de resultados (Solapamientos y Diferencias)"
   ]
  },
  {
   "cell_type": "code",
   "execution_count": null,
   "metadata": {},
   "outputs": [],
   "source": [
    "from nilearn import image, input_data\n",
    "from nilearn import plotting\n",
    "from nilearn.datasets import fetch_atlas_aal\n",
    "\n",
    "atlas = fetch_atlas_aal()\n",
    "\n",
    "# Mostrar el mapa de conectividad de un sujeto en una visualización 3D\n",
    "plotting.plot_connectome(correlation_matrix_tea, atlas.filename, title=\"Conectividad Funcional\")"
   ]
  },
  {
   "cell_type": "markdown",
   "metadata": {},
   "source": [
    "### Análisis de Solapamiento entre Grupos"
   ]
  },
  {
   "cell_type": "code",
   "execution_count": null,
   "metadata": {},
   "outputs": [],
   "source": [
    "# Crear una máscara binaria para las áreas con correlación significativa\n",
    "mask_A = mean_asd_connectivity_matrices > 1  # ejemplo de umbral de correlación\n",
    "mask_B = mean_healty_connectivity_matrices > 1  # ejemplo de umbral de correlación\n",
    "\n",
    "# Calcular la intersección de las áreas significativas\n",
    "overlap_mask = np.logical_and(mask_A, mask_B)\n",
    "\n",
    "# Visualizar el solapamiento\n",
    "plt.figure(figsize=(8, 6))\n",
    "plt.imshow(overlap_mask, cmap='binary')\n",
    "plt.title(\"Solapamiento de Áreas de Conectividad Significativa entre Grupos\")\n",
    "plt.show()\n"
   ]
  },
  {
   "cell_type": "markdown",
   "metadata": {},
   "source": [
    "### Análisis de solapamiento cuantitativo   "
   ]
  },
  {
   "cell_type": "code",
   "execution_count": null,
   "metadata": {},
   "outputs": [],
   "source": [
    "overlap_percentage = np.sum(overlap_mask) / np.size(correlation_matrix) * 100\n",
    "print(f\"Porcentaje de solapamiento: {overlap_percentage}%\")"
   ]
  },
  {
   "cell_type": "markdown",
   "metadata": {},
   "source": [
    "### Tangent space embedding\n",
    "\n",
    "This method allows the translation of connectivity matrices from fMRI data into a form that is compatible with Euclidean machine learning techniques while preserving the important geometric properties of the data. Is particularly useful when analyzing covariance or correlation matrices in tasks involving brain connectivity and classification of neurological conditions.\n",
    "\n",
    "The workflow involves two main steps:\n",
    "\n",
    "**Estimate the reference tangent space**: Calculate the tangent space projection based on the mean covariance matrix of a training population. This establishes the \"reference space\" against which individual test subjects can later be projected.\n",
    "\n",
    "**Project subjects onto the reference space**: Using the precomputed reference tangent space from the population, can be project the covariance matrix of a new subjects onto this space. This will yield a tangent space connectivity matrix for the subjects that aligns with those of the population.\n",
    "\n",
    "#### Create the training population\n",
    "\n",
    "To maintain a separate testing set, we exclude the `test_site` site data from the main population data used for Estimate the reference tangent space."
   ]
  },
  {
   "cell_type": "code",
   "execution_count": null,
   "metadata": {},
   "outputs": [],
   "source": [
    "def create_population(time_series_data):\n",
    "    # Initialize an empty list for the population data \n",
    "    population_data = []\n",
    "\n",
    "    # Loop through the time series data\n",
    "    for item in time_series_data:\n",
    "        # Extend each item\n",
    "        population_data.extend(item)\n",
    "\n",
    "    print(f\"Total subjects in population data: {len(population_data)}\")\n",
    "    return population_data"
   ]
  },
  {
   "cell_type": "markdown",
   "metadata": {},
   "source": [
    "#### Function to estimating tangent space functional connectivity\n",
    "\n",
    "The `estimate_tangent_space(data)` function calculate the tangent space based on the geometric mean covariance matrix of a training population dataset. This creates a \"reference space\" that reflects the average connectivity patterns across the population.\n",
    "\n",
    "The tangent space representation of functional connectivity is a powerful tool for analyzing brain connectivity. It allows the comparison of individual functional connectivity matrices in a standardized space, computed relative to a group average matrix."
   ]
  },
  {
   "cell_type": "code",
   "execution_count": null,
   "metadata": {},
   "outputs": [],
   "source": [
    "from nilearn.connectome import ConnectivityMeasure\n",
    "\n",
    "def estimate_tangent_space(data):\n",
    "    \"\"\"\n",
    "    Estimate the tangent space functional connectivity.\n",
    "\n",
    "    Parameters:\n",
    "    -----------\n",
    "    data : list or ndarray\n",
    "        List or array of time series data for the training population, where each entry corresponds \n",
    "        to a subject's time series (time points x regions).\n",
    "\n",
    "    Returns:\n",
    "    --------\n",
    "    ConnectivityMeasure\n",
    "        Fitted ConnectivityMeasure object configured for tangent space transformation.\n",
    "    \"\"\"\n",
    "    # Instantiate ConnectivityMeasure for tangent space, vectorizing and discarding the diagonal\n",
    "    connectivity_measure = ConnectivityMeasure(kind='tangent', vectorize=True, discard_diagonal=True)\n",
    "\n",
    "    # Fit the measure on the population data to establish a reference tangent space\n",
    "    connectivity_measure.fit(data)\n",
    "\n",
    "    return connectivity_measure\n"
   ]
  }
 ],
 "metadata": {
  "kernelspec": {
   "display_name": "data_science",
   "language": "python",
   "name": "python3"
  },
  "language_info": {
   "codemirror_mode": {
    "name": "ipython",
    "version": 3
   },
   "file_extension": ".py",
   "mimetype": "text/x-python",
   "name": "python",
   "nbconvert_exporter": "python",
   "pygments_lexer": "ipython3",
   "version": "3.9.15"
  }
 },
 "nbformat": 4,
 "nbformat_minor": 2
}
